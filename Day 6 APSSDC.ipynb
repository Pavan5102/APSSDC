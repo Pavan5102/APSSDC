{
 "cells": [
  {
   "cell_type": "markdown",
   "id": "453c5f2d",
   "metadata": {},
   "source": [
    "# Day 6\n"
   ]
  },
  {
   "cell_type": "raw",
   "id": "ccd6ddb3",
   "metadata": {},
   "source": [
    "# 1. Write a Python script to print a dictionary where the keys are numbers between 1 and 15 (both included) and the values are square of keys."
   ]
  },
  {
   "cell_type": "code",
   "execution_count": 1,
   "id": "48649376",
   "metadata": {},
   "outputs": [
    {
     "name": "stdout",
     "output_type": "stream",
     "text": [
      "{1: 1, 2: 4, 3: 9, 4: 16, 5: 25, 6: 36, 7: 49, 8: 64, 9: 81, 10: 100, 11: 121, 12: 144, 13: 169, 14: 196, 15: 225} "
     ]
    }
   ],
   "source": [
    "dict = {}\n",
    "for i in range(1,16):\n",
    "    dict[i] = i**2\n",
    "print(dict, end=\" \")"
   ]
  },
  {
   "cell_type": "markdown",
   "id": "9ec334da",
   "metadata": {},
   "source": [
    "2.Write a Python program to map two lists into a dictionary"
   ]
  },
  {
   "cell_type": "code",
   "execution_count": 3,
   "id": "0a425817",
   "metadata": {},
   "outputs": [
    {
     "name": "stdout",
     "output_type": "stream",
     "text": [
      "Enter the number of elements in the dictionary: 1\n",
      "Enter the keys: \n",
      "sravan\n",
      "The keys are:  ['sravan']\n",
      "Enter the values: \n",
      "4\n",
      "The values are:  ['4']\n",
      "The dictionary is:  {'sravan': '4'}\n"
     ]
    }
   ],
   "source": [
    "n = int(input(\"Enter the number of elements in the dictionary: \"))\n",
    "k = []\n",
    "v = []\n",
    "print(\"Enter the keys: \")\n",
    "for i in range(0,n):\n",
    "    a = input()\n",
    "    k.append(a)\n",
    "print(\"The keys are: \",k)\n",
    "print(\"Enter the values: \")\n",
    "for j in range(0,n):\n",
    "    b = input()\n",
    "    v.append(b)\n",
    "print(\"The values are: \",v)\n",
    "print(\"The dictionary is: \",{k[i]:v[i] for i in range(n)})"
   ]
  },
  {
   "cell_type": "raw",
   "id": "a83d116d",
   "metadata": {},
   "source": [
    "3. Write a Python program to sort a list alphabetically in a dictionary\n",
    "input : {'n1': [2, 3, 1], 'n2': [5, 1, 2], 'n3': [3, 2, 4]}\n",
    "output : {'n1': [1, 2, 3], 'n2': [1, 2, 5], 'n3': [2, 3, 4]}"
   ]
  },
  {
   "cell_type": "code",
   "execution_count": 4,
   "id": "5e570492",
   "metadata": {},
   "outputs": [
    {
     "name": "stdout",
     "output_type": "stream",
     "text": [
      "Sorted list in dictionary:  {'n1': [1, 2, 3], 'n2': [1, 2, 5], 'n3': [2, 3, 4]}\n"
     ]
    }
   ],
   "source": [
    "dict = {\n",
    "    'n1': [2, 3, 1], \n",
    "    'n2': [5, 1, 2], \n",
    "    'n3': [3, 2, 4]\n",
    "}\n",
    "print(\"Sorted list in dictionary: \",{k:sorted(v) for k,v in dict.items()})"
   ]
  },
  {
   "cell_type": "code",
   "execution_count": null,
   "id": "21fd6c9b",
   "metadata": {},
   "outputs": [],
   "source": []
  }
 ],
 "metadata": {
  "kernelspec": {
   "display_name": "Python 3",
   "language": "python",
   "name": "python3"
  },
  "language_info": {
   "codemirror_mode": {
    "name": "ipython",
    "version": 3
   },
   "file_extension": ".py",
   "mimetype": "text/x-python",
   "name": "python",
   "nbconvert_exporter": "python",
   "pygments_lexer": "ipython3",
   "version": "3.8.8"
  }
 },
 "nbformat": 4,
 "nbformat_minor": 5
}
