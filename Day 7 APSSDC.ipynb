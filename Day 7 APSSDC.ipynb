{
 "cells": [
  {
   "cell_type": "markdown",
   "id": "b7dfcf09",
   "metadata": {},
   "source": [
    "# day 7 AP19110010275"
   ]
  },
  {
   "cell_type": "markdown",
   "id": "d2f5ec0f",
   "metadata": {},
   "source": [
    "1: Write a pattern to display 4 digit numbers from list1\n",
    "    list1 = [6245, 987654321, 476277, 15764, 9875, 95767]"
   ]
  },
  {
   "cell_type": "code",
   "execution_count": 3,
   "id": "3c15c5a2",
   "metadata": {},
   "outputs": [
    {
     "data": {
      "text/plain": [
       "[6245, 987654321, 476277, 15764, 9875, 95767]"
      ]
     },
     "execution_count": 3,
     "metadata": {},
     "output_type": "execute_result"
    }
   ],
   "source": [
    "list1 = [6245, 987654321, 476277, 15764, 9875, 95767]\n",
    "list1"
   ]
  },
  {
   "cell_type": "code",
   "execution_count": 4,
   "id": "d58eaf1e",
   "metadata": {},
   "outputs": [
    {
     "name": "stdout",
     "output_type": "stream",
     "text": [
      "6245\n",
      "9875\n"
     ]
    }
   ],
   "source": [
    "for i in list1:\n",
    "    digit=i\n",
    "    count=0\n",
    "    while (i!=0):\n",
    "        z=i%10\n",
    "        count=count+1\n",
    "        i=i//10\n",
    "        \n",
    "    if(count==4):\n",
    "        print(digit)"
   ]
  },
  {
   "cell_type": "raw",
   "id": "630e982a",
   "metadata": {},
   "source": [
    "2: Validate a phone number using patterns. Try to do this task using below pattern or your own pattern\n",
    "ph_list = [9876556410, 8124455787, 8895124452, 789654, 1234567890]"
   ]
  },
  {
   "cell_type": "code",
   "execution_count": 5,
   "id": "62c1cc83",
   "metadata": {},
   "outputs": [
    {
     "name": "stdout",
     "output_type": "stream",
     "text": [
      "9876556410\n",
      "8124455787\n",
      "8895124452\n"
     ]
    }
   ],
   "source": [
    "import re\n",
    "ph_list = ['9876556410', '8124455787', '8895124452', '789654', '1234567890']\n",
    "for i in ph_list:\n",
    "    if re.findall('^[6-9]{1}[0-9]{9}$', i):\n",
    "        print(i)"
   ]
  },
  {
   "cell_type": "code",
   "execution_count": null,
   "id": "183e0e1b",
   "metadata": {},
   "outputs": [],
   "source": []
  }
 ],
 "metadata": {
  "kernelspec": {
   "display_name": "Python 3",
   "language": "python",
   "name": "python3"
  },
  "language_info": {
   "codemirror_mode": {
    "name": "ipython",
    "version": 3
   },
   "file_extension": ".py",
   "mimetype": "text/x-python",
   "name": "python",
   "nbconvert_exporter": "python",
   "pygments_lexer": "ipython3",
   "version": "3.8.8"
  }
 },
 "nbformat": 4,
 "nbformat_minor": 5
}
