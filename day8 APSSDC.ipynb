{
 "cells": [
  {
   "cell_type": "markdown",
   "id": "1fb25faa",
   "metadata": {},
   "source": [
    "# day 8 AP19110010275"
   ]
  },
  {
   "cell_type": "raw",
   "id": "af24a3f6",
   "metadata": {},
   "source": [
    "1.create a function for finding the leap years within the given range"
   ]
  },
  {
   "cell_type": "code",
   "execution_count": 2,
   "id": "c7495b0c",
   "metadata": {},
   "outputs": [
    {
     "name": "stdout",
     "output_type": "stream",
     "text": [
      "1600 1800\n",
      "The leap years between  1600 and  1800 are\n",
      "1600\n",
      "1604\n",
      "1608\n",
      "1612\n",
      "1616\n",
      "1620\n",
      "1624\n",
      "1628\n",
      "1632\n",
      "1636\n",
      "1640\n",
      "1644\n",
      "1648\n",
      "1652\n",
      "1656\n",
      "1660\n",
      "1664\n",
      "1668\n",
      "1672\n",
      "1676\n",
      "1680\n",
      "1684\n",
      "1688\n",
      "1692\n",
      "1696\n",
      "1704\n",
      "1708\n",
      "1712\n",
      "1716\n",
      "1720\n",
      "1724\n",
      "1728\n",
      "1732\n",
      "1736\n",
      "1740\n",
      "1744\n",
      "1748\n",
      "1752\n",
      "1756\n",
      "1760\n",
      "1764\n",
      "1768\n",
      "1772\n",
      "1776\n",
      "1780\n",
      "1784\n",
      "1788\n",
      "1792\n",
      "1796\n"
     ]
    }
   ],
   "source": [
    "def leap_range():\n",
    "    a,b=map(int, input().split())\n",
    "    print(\"The leap years between \",a,\"and \",b,\"are\")\n",
    "    for i in range(a,b+1):\n",
    "        if (i%4==0 and i%100!=0) or (i%400==0):\n",
    "            print(i)\n",
    "leap_range()"
   ]
  },
  {
   "cell_type": "raw",
   "id": "b5ba156f",
   "metadata": {},
   "source": [
    "2.Create a function for getting the armstrong numbers within the given range"
   ]
  },
  {
   "cell_type": "code",
   "execution_count": 3,
   "id": "287b9290",
   "metadata": {},
   "outputs": [
    {
     "name": "stdout",
     "output_type": "stream",
     "text": [
      "1 78\n",
      "1\n"
     ]
    }
   ],
   "source": [
    "def armstrong ():\n",
    "    a,b=map(int, input().split())\n",
    "    for i  in range (a,b+1):\n",
    "        s=0\n",
    "        t=i\n",
    "        while i>0:\n",
    "            r=i%10\n",
    "            s+=r**3\n",
    "            i=i//10\n",
    "        if s==t:\n",
    "            print(t)\n",
    "        else:\n",
    "            pass\n",
    "armstrong()"
   ]
  },
  {
   "cell_type": "raw",
   "id": "1b6ae378",
   "metadata": {},
   "source": [
    "3.create a function for getting the prime numbers within the range"
   ]
  },
  {
   "cell_type": "code",
   "execution_count": 4,
   "id": "8fb549f7",
   "metadata": {},
   "outputs": [
    {
     "name": "stdout",
     "output_type": "stream",
     "text": [
      "Enter lower range: 5\n",
      "Enter upper range: 99\n",
      "5,7,11,13,17,19,23,29,31,37,41,43,47,53,59,61,67,71,73,79,83,89,97,"
     ]
    }
   ],
   "source": [
    "def prime():\n",
    "    start = int(input(\"Enter lower range: \"))  \n",
    "    end = int(input(\"Enter upper range: \"))  \n",
    "    for num in range(start,end + 1):\n",
    "        if num > 1:\n",
    "            for i in range(2,num):\n",
    "                if (num % i) == 0:\n",
    "                    break\n",
    "            else:\n",
    "                    print(num,end=\",\")\n",
    "prime()"
   ]
  },
  {
   "cell_type": "code",
   "execution_count": null,
   "id": "63545990",
   "metadata": {},
   "outputs": [],
   "source": []
  }
 ],
 "metadata": {
  "kernelspec": {
   "display_name": "Python 3",
   "language": "python",
   "name": "python3"
  },
  "language_info": {
   "codemirror_mode": {
    "name": "ipython",
    "version": 3
   },
   "file_extension": ".py",
   "mimetype": "text/x-python",
   "name": "python",
   "nbconvert_exporter": "python",
   "pygments_lexer": "ipython3",
   "version": "3.8.8"
  }
 },
 "nbformat": 4,
 "nbformat_minor": 5
}
